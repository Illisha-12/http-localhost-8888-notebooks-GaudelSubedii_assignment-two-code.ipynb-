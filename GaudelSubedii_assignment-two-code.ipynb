{
 "cells": [
  {
   "cell_type": "markdown",
   "metadata": {},
   "source": [
    "# question 1"
   ]
  },
  {
   "cell_type": "code",
   "execution_count": 1,
   "metadata": {
    "scrolled": true
   },
   "outputs": [
    {
     "name": "stdout",
     "output_type": "stream",
     "text": [
      "r v\n",
      "1 4.1887902047863905\n",
      "2 33.510321638291124\n",
      "3 113.09733552923254\n",
      "4 268.082573106329\n",
      "5 523.5987755982989\n",
      "6 904.7786842338603\n",
      "7 1436.7550402417319\n",
      "8 2144.660584850632\n",
      "9 3053.6280592892786\n",
      "10 4188.790204786391\n"
     ]
    }
   ],
   "source": [
    "import math\n",
    "def volume_calculation(radius):\n",
    "    volume = (4/3)*math.pi*(radius*radius*radius)\n",
    "    return volume\n",
    "\n",
    "print(\"r\", \"v\")\n",
    "\n",
    "for r in range(1,11):\n",
    "    print(r, volume_calculation(r))"
   ]
  },
  {
   "cell_type": "markdown",
   "metadata": {},
   "source": [
    "# question 2-(1)"
   ]
  },
  {
   "cell_type": "code",
   "execution_count": 2,
   "metadata": {
    "scrolled": true
   },
   "outputs": [
    {
     "name": "stdout",
     "output_type": "stream",
     "text": [
      "        SentenceID                               Sentencetext content\n",
      "0      ARTHROTEC.1  I feel a bit drowsy & have a little blurred vi...\n",
      "1      ARTHROTEC.2  I've been on Arthrotec 50 for over 10 years on...\n",
      "2      ARTHROTEC.3  Due to my arthritis getting progressively wors...\n",
      "3      ARTHROTEC.4  every day for the next month to see how I get ...\n",
      "4      ARTHROTEC.5  So far its been very goodpains almost gonebut ...\n",
      "5      ARTHROTEC.8  heartburnnauseafrequent feelings of voracious ...\n",
      "6      ARTHROTEC.9  Did not seem to make a lot of difference to th...\n",
      "7     ARTHROTEC.10  Stopped taking it after 13 daysprefer the pain...\n",
      "8     ARTHROTEC.11  Constipation right from the start and in ladt ...\n",
      "9     ARTHROTEC.12      Pain so bad it disrupted my sleep co pletely.\n",
      "10    ARTHROTEC.13  alsoextreme itching on legs and armsso bad I s...\n",
      "11    ARTHROTEC.14  mobility has DECREASED rapidlyespecially when ...\n",
      "12    ARTHROTEC.15  Was warned about possibility of constipation b...\n",
      "13    ARTHROTEC.16  Arthrotec was supposed to ease my pain not mak...\n",
      "14    ARTHROTEC.17  Have stopped taking and immediatedly muscle/jo...\n",
      "15    ARTHROTEC.18  Have reverted to use of cocodamol to ease symp...\n",
      "16    ARTHROTEC.19  I am menstruating with heavy bleeding every 11...\n",
      "17    ARTHROTEC.20  HonestlyI can't figure out how I can lose this...\n",
      "18    ARTHROTEC.21  I have horrific cramps to begin withso I can't...\n",
      "19    ARTHROTEC.22  I have endometriosisso I'm not sure if that is...\n",
      "20    ARTHROTEC.23  It did help with the pain I experience with th...\n",
      "21    ARTHROTEC.24                                   No side effects.\n",
      "22    ARTHROTEC.25  I tried the advertised Arthritis medicines wit...\n",
      "23    ARTHROTEC.26  Instead of taking the pill 2X dailyas prescrib...\n",
      "24    ARTHROTEC.27  My arthritis has been under control for years ...\n",
      "25    ARTHROTEC.28  At the time this was prescribed the doctor was...\n",
      "26    ARTHROTEC.29               This drug has been a godsend for me.\n",
      "27    ARTHROTEC.30  It began with stomach pain,then slight nauseat...\n",
      "28    ARTHROTEC.31  After the second pill the same progression of ...\n",
      "29    ARTHROTEC.32      I stopped pills but abdominal cramps persist.\n",
      "..             ...                                                ...\n",
      "496  ARTHROTEC.501  I was told to stop taking Arthrotec and am now...\n",
      "497  ARTHROTEC.502  For the first week I took one pill at bedtimeb...\n",
      "498  ARTHROTEC.503  I experienced extreme uterine cramping within ...\n",
      "499  ARTHROTEC.504  Heavy bleeding started within 30 minutes after...\n",
      "500  ARTHROTEC.505  Medical personnel dismissed the symptoms as no...\n",
      "501  ARTHROTEC.506  Subsequent uterine & vaginal ultrasounds did n...\n",
      "502  ARTHROTEC.507  My OB/Gyn told me that she uses misoprostal (1...\n",
      "503  ARTHROTEC.508                  I would not recommend to females.\n",
      "504  ARTHROTEC.509  If you do take this drugplease pay careful att...\n",
      "505  ARTHROTEC.510                  Read all drug material carefully.\n",
      "506  ARTHROTEC.511    The symptoms got progressively worse with time.\n",
      "507  ARTHROTEC.512  They included fluid retentionall over muscle p...\n",
      "508  ARTHROTEC.513  I stopped taking them a week ago and felt much...\n",
      "509  ARTHROTEC.514  Some of the side effects haven't totally disap...\n",
      "510  ARTHROTEC.515  My doctor doesn't believe that this medication...\n",
      "511  ARTHROTEC.516  HAVE BEEN TAKING 1 75 ARTHROTEC DAILY IT HAS A...\n",
      "512  ARTHROTEC.517  If I take the pill on an empty stomach I get a...\n",
      "513  ARTHROTEC.518                         almost to faint to notice.\n",
      "514  ARTHROTEC.519  HoweverI also get diarrhoea at least twice a day.\n",
      "515  ARTHROTEC.520  There are no gas pains and no other symptomsso...\n",
      "516  ARTHROTEC.521  When I am on holiday at the coast I am pain fr...\n",
      "517  ARTHROTEC.522                        It also allows me to sleep.\n",
      "518  ARTHROTEC.523         no side effects for the first two months .\n",
      "519  ARTHROTEC.524  then vaginal bleeding 2 wks after menstral cycle.\n",
      "520  ARTHROTEC.525                                      stomach pain.\n",
      "521  ARTHROTEC.526                          canker sores in my mouth.\n",
      "522  ARTHROTEC.527                                          headache.\n",
      "523  ARTHROTEC.528           been off for 1 week still have bleeding.\n",
      "524  ARTHROTEC.529                              helped my pain alot .\n",
      "525  ARTHROTEC.530                too scared to take this drug again.\n",
      "\n",
      "[526 rows x 2 columns]\n"
     ]
    }
   ],
   "source": [
    "import pandas as pd\n",
    "data = pd.read_csv(r\"/Users/AshokLaxmi/Desktop/arthodox_txt.csv\")\n",
    "columndata = data.loc[:,[\"SentenceID\",\"Sentencetext content\"]]\n",
    "print(columndata)"
   ]
  },
  {
   "cell_type": "markdown",
   "metadata": {},
   "source": [
    "# question 2-(2)"
   ]
  },
  {
   "cell_type": "code",
   "execution_count": 17,
   "metadata": {},
   "outputs": [
    {
     "name": "stdout",
     "output_type": "stream",
     "text": [
      "        SentenceID                               Sentencetext content  \\\n",
      "0      ARTHROTEC.1  I feel a bit drowsy & have a little blurred vi...   \n",
      "1      ARTHROTEC.2  I've been on Arthrotec 50 for over 10 years on...   \n",
      "2      ARTHROTEC.3  Due to my arthritis getting progressively wors...   \n",
      "3      ARTHROTEC.4  every day for the next month to see how I get ...   \n",
      "4      ARTHROTEC.5  So far its been very goodpains almost gonebut ...   \n",
      "5      ARTHROTEC.8  heartburnnauseafrequent feelings of voracious ...   \n",
      "6      ARTHROTEC.9  Did not seem to make a lot of difference to th...   \n",
      "7     ARTHROTEC.10  Stopped taking it after 13 daysprefer the pain...   \n",
      "8     ARTHROTEC.11  Constipation right from the start and in ladt ...   \n",
      "9     ARTHROTEC.12      Pain so bad it disrupted my sleep co pletely.   \n",
      "10    ARTHROTEC.13  alsoextreme itching on legs and armsso bad I s...   \n",
      "11    ARTHROTEC.14  mobility has DECREASED rapidlyespecially when ...   \n",
      "12    ARTHROTEC.15  Was warned about possibility of constipation b...   \n",
      "13    ARTHROTEC.16  Arthrotec was supposed to ease my pain not mak...   \n",
      "14    ARTHROTEC.17  Have stopped taking and immediatedly muscle/jo...   \n",
      "15    ARTHROTEC.18  Have reverted to use of cocodamol to ease symp...   \n",
      "16    ARTHROTEC.19  I am menstruating with heavy bleeding every 11...   \n",
      "17    ARTHROTEC.20  HonestlyI can't figure out how I can lose this...   \n",
      "18    ARTHROTEC.21  I have horrific cramps to begin withso I can't...   \n",
      "19    ARTHROTEC.22  I have endometriosisso I'm not sure if that is...   \n",
      "20    ARTHROTEC.23  It did help with the pain I experience with th...   \n",
      "21    ARTHROTEC.24                                   No side effects.   \n",
      "22    ARTHROTEC.25  I tried the advertised Arthritis medicines wit...   \n",
      "23    ARTHROTEC.26  Instead of taking the pill 2X dailyas prescrib...   \n",
      "24    ARTHROTEC.27  My arthritis has been under control for years ...   \n",
      "25    ARTHROTEC.28  At the time this was prescribed the doctor was...   \n",
      "26    ARTHROTEC.29               This drug has been a godsend for me.   \n",
      "27    ARTHROTEC.30  It began with stomach pain,then slight nauseat...   \n",
      "28    ARTHROTEC.31  After the second pill the same progression of ...   \n",
      "29    ARTHROTEC.32      I stopped pills but abdominal cramps persist.   \n",
      "..             ...                                                ...   \n",
      "496  ARTHROTEC.501  I was told to stop taking Arthrotec and am now...   \n",
      "497  ARTHROTEC.502  For the first week I took one pill at bedtimeb...   \n",
      "498  ARTHROTEC.503  I experienced extreme uterine cramping within ...   \n",
      "499  ARTHROTEC.504  Heavy bleeding started within 30 minutes after...   \n",
      "500  ARTHROTEC.505  Medical personnel dismissed the symptoms as no...   \n",
      "501  ARTHROTEC.506  Subsequent uterine & vaginal ultrasounds did n...   \n",
      "502  ARTHROTEC.507  My OB/Gyn told me that she uses misoprostal (1...   \n",
      "503  ARTHROTEC.508                  I would not recommend to females.   \n",
      "504  ARTHROTEC.509  If you do take this drugplease pay careful att...   \n",
      "505  ARTHROTEC.510                  Read all drug material carefully.   \n",
      "506  ARTHROTEC.511    The symptoms got progressively worse with time.   \n",
      "507  ARTHROTEC.512  They included fluid retentionall over muscle p...   \n",
      "508  ARTHROTEC.513  I stopped taking them a week ago and felt much...   \n",
      "509  ARTHROTEC.514  Some of the side effects haven't totally disap...   \n",
      "510  ARTHROTEC.515  My doctor doesn't believe that this medication...   \n",
      "511  ARTHROTEC.516  HAVE BEEN TAKING 1 75 ARTHROTEC DAILY IT HAS A...   \n",
      "512  ARTHROTEC.517  If I take the pill on an empty stomach I get a...   \n",
      "513  ARTHROTEC.518                         almost to faint to notice.   \n",
      "514  ARTHROTEC.519  HoweverI also get diarrhoea at least twice a day.   \n",
      "515  ARTHROTEC.520  There are no gas pains and no other symptomsso...   \n",
      "516  ARTHROTEC.521  When I am on holiday at the coast I am pain fr...   \n",
      "517  ARTHROTEC.522                        It also allows me to sleep.   \n",
      "518  ARTHROTEC.523         no side effects for the first two months .   \n",
      "519  ARTHROTEC.524  then vaginal bleeding 2 wks after menstral cycle.   \n",
      "520  ARTHROTEC.525                                      stomach pain.   \n",
      "521  ARTHROTEC.526                          canker sores in my mouth.   \n",
      "522  ARTHROTEC.527                                          headache.   \n",
      "523  ARTHROTEC.528           been off for 1 week still have bleeding.   \n",
      "524  ARTHROTEC.529                              helped my pain alot .   \n",
      "525  ARTHROTEC.530                too scared to take this drug again.   \n",
      "\n",
      "                                    Processed Sentence  \n",
      "0    I feel a bit drowsy & have a little blurred vi...  \n",
      "1    I've been on Arthrotec  for over  years on and...  \n",
      "2    Due to my arthritis getting progressively wors...  \n",
      "3    every day for the next month to see how I get ...  \n",
      "4    So far its been very goodpains almost gonebut ...  \n",
      "5    heartburnnauseafrequent feelings of voracious ...  \n",
      "6    Did not seem to make a lot of difference to th...  \n",
      "7    Stopped taking it after  daysprefer the pain i...  \n",
      "8    Constipation right from the start and in ladt ...  \n",
      "9        Pain so bad it disrupted my sleep co pletely.  \n",
      "10   alsoextreme itching on legs and armsso bad I s...  \n",
      "11   mobility has DECREASED rapidlyespecially when ...  \n",
      "12   Was warned about possibility of constipation b...  \n",
      "13   Arthrotec was supposed to ease my pain not mak...  \n",
      "14   Have stopped taking and immediatedly musclejoi...  \n",
      "15   Have reverted to use of cocodamol to ease symp...  \n",
      "16   I am menstruating with heavy bleeding every  d...  \n",
      "17   HonestlyI can't figure out how I can lose this...  \n",
      "18   I have horrific cramps to begin withso I can't...  \n",
      "19   I have endometriosisso I'm not sure if that is...  \n",
      "20   It did help with the pain I experience with th...  \n",
      "21                                    No side effects.  \n",
      "22   I tried the advertised Arthritis medicines wit...  \n",
      "23   Instead of taking the pill X dailyas prescribe...  \n",
      "24   My arthritis has been under control for years ...  \n",
      "25   At the time this was prescribed the doctor was...  \n",
      "26                This drug has been a godsend for me.  \n",
      "27   It began with stomach painthen slight nauseath...  \n",
      "28   After the second pill the same progression of ...  \n",
      "29       I stopped pills but abdominal cramps persist.  \n",
      "..                                                 ...  \n",
      "496  I was told to stop taking Arthrotec and am now...  \n",
      "497  For the first week I took one pill at bedtimeb...  \n",
      "498  I experienced extreme uterine cramping within ...  \n",
      "499  Heavy bleeding started within  minutes after t...  \n",
      "500  Medical personnel dismissed the symptoms as no...  \n",
      "501  Subsequent uterine & vaginal ultrasounds did n...  \n",
      "502  My OBGyn told me that she uses misoprostal ( o...  \n",
      "503                  I would not recommend to females.  \n",
      "504  If you do take this drugplease pay careful att...  \n",
      "505                  Read all drug material carefully.  \n",
      "506    The symptoms got progressively worse with time.  \n",
      "507  They included fluid retentionall over muscle p...  \n",
      "508  I stopped taking them a week ago and felt much...  \n",
      "509  Some of the side effects haven't totally disap...  \n",
      "510  My doctor doesn't believe that this medication...  \n",
      "511  HAVE BEEN TAKING   ARTHROTEC DAILY IT HAS ALMO...  \n",
      "512  If I take the pill on an empty stomach I get a...  \n",
      "513                         almost to faint to notice.  \n",
      "514  HoweverI also get diarrhoea at least twice a day.  \n",
      "515  There are no gas pains and no other symptomsso...  \n",
      "516  When I am on holiday at the coast I am pain fr...  \n",
      "517                        It also allows me to sleep.  \n",
      "518         no side effects for the first two months .  \n",
      "519   then vaginal bleeding  wks after menstral cycle.  \n",
      "520                                      stomach pain.  \n",
      "521                          canker sores in my mouth.  \n",
      "522                                          headache.  \n",
      "523            been off for  week still have bleeding.  \n",
      "524                              helped my pain alot .  \n",
      "525                too scared to take this drug again.  \n",
      "\n",
      "[526 rows x 3 columns]\n"
     ]
    }
   ],
   "source": [
    "import pandas as pd\n",
    "data = pd.read_csv(r\"/Users/AshokLaxmi/Desktop/arthodox_txt.csv\")\n",
    "columndata = data.loc[:,[\"SentenceID\",\"Sentencetext content\",\"Processed Sentence\"]]\n",
    "print(columndata)"
   ]
  },
  {
   "cell_type": "markdown",
   "metadata": {},
   "source": [
    "# Question 2(3)"
   ]
  },
  {
   "cell_type": "code",
   "execution_count": 4,
   "metadata": {},
   "outputs": [
    {
     "name": "stdout",
     "output_type": "stream",
     "text": [
      "Sentencetext content    So far its been very goodpains almost gonebut ...\n",
      "Processed Sentence      So far its been very goodpains almost gonebut ...\n",
      "Name: ARTHROTEC.5, dtype: object\n"
     ]
    }
   ],
   "source": [
    "import pandas as pd\n",
    "data = pd.read_csv(r\"/Users/AshokLaxmi/Desktop/arthodox_txt.csv\")\n",
    "data = data.set_index(['SentenceID'])\n",
    "print(data.loc['ARTHROTEC.5'])"
   ]
  },
  {
   "cell_type": "code",
   "execution_count": null,
   "metadata": {},
   "outputs": [],
   "source": [
    "question 3"
   ]
  },
  {
   "cell_type": "code",
   "execution_count": 16,
   "metadata": {},
   "outputs": [],
   "source": [
    "import pandas as pd\n",
    "data = pd.read_csv(r'/Users/AshokLaxmi/Desktop/Assignment2_denton_housing.csv')\n",
    "data = pd.DataFrame(data, columns =['year', 'title_field', 'value'])"
   ]
  },
  {
   "cell_type": "code",
   "execution_count": 17,
   "metadata": {},
   "outputs": [],
   "source": [
    "years = list(data['year'])[1:]\n",
    "years = [int(y) for y in years]\n",
    "values = list(data['value'])[1:]\n",
    "values = [int(y) for y in values]"
   ]
  },
  {
   "cell_type": "code",
   "execution_count": 20,
   "metadata": {
    "scrolled": true
   },
   "outputs": [
    {
     "name": "stdout",
     "output_type": "stream",
     "text": [
      "[]\n",
      "[795]\n",
      "[795, 5091]\n",
      "[303, 795, 5091]\n",
      "[303, 795, 1404, 5091]\n",
      "[303, 795, 1404, 1565, 5091]\n",
      "[303, 795, 1404, 1565, 4215, 5091]\n"
     ]
    }
   ],
   "source": [
    "question 3.1\n",
    "\n",
    "vals = []\n",
    "vac = []\n",
    "occ = []\n",
    "for e in set(years):\n",
    "    vals.append(values[years.index(e)])\n",
    "    vac.append(values[years.index(e) +1])\n",
    "    occ.append(values[years.index(e) +2])\n",
    "    diff = [abs(k-l) for l, k in zip(occ[:-1], occ[1:])]\n",
    "    diff.sort()\n",
    "    print(diff)"
   ]
  },
  {
   "cell_type": "code",
   "execution_count": 43,
   "metadata": {},
   "outputs": [
    {
     "name": "stdout",
     "output_type": "stream",
     "text": [
      "year   Vacant  Occupied    \n",
      "2014   1645%    1702%   \n"
     ]
    }
   ],
   "source": [
    "question 3.2\n",
    "\n",
    "print('year   ' + 'Vacant  '+   'Occupied    ')\n",
    "for p in range(0, len(vals)): \n",
    "    k, l, g, v = vals[p], vac[p], occ[p], list(set(years))[p]\n",
    "print('{}   '.format(round(v)) +'{}%    '.format(round(l*100/k)) + '{}%   '.format(round(g*100/k)))"
   ]
  },
  {
   "cell_type": "markdown",
   "metadata": {},
   "source": [
    "# question no. 3-(3)"
   ]
  },
  {
   "cell_type": "code",
   "execution_count": 29,
   "metadata": {
    "scrolled": true
   },
   "outputs": [
    {
     "name": "stdout",
     "output_type": "stream",
     "text": [
      "                         year        value        \n",
      "Vacant Housing Units     2014       46295\n",
      "Occupied Housing Units   2014      47888\n"
     ]
    }
   ],
   "source": [
    "print('                         '+ 'year        ' + 'value        ')\n",
    "maxVac = max(vac)\n",
    "maxOcc = max(occ)\n",
    "print('Vacant Housing Units     '+'{}       '.format(list(set(years))[vac.index(max(vac))]) + '{}'.format\n",
    "      (maxVac))\n",
    "print('Occupied Housing Units   '+ '{}      '.format(list(set(years))[occ.index(max(occ))]) + '{}'.format\n",
    "      (maxOcc))   "
   ]
  },
  {
   "cell_type": "markdown",
   "metadata": {},
   "source": [
    "# question no.3-(4)"
   ]
  },
  {
   "cell_type": "code",
   "execution_count": 14,
   "metadata": {},
   "outputs": [
    {
     "data": {
      "text/plain": [
       "44398.28543969185"
      ]
     },
     "execution_count": 14,
     "metadata": {},
     "output_type": "execute_result"
    }
   ],
   "source": [
    "#harmonic mean of total housing units\n",
    "list= 49109,47888,45121,44917,44642, 39499,41194\n",
    "import statistics as s\n",
    "s.harmonic_mean(list)"
   ]
  },
  {
   "cell_type": "code",
   "execution_count": null,
   "metadata": {},
   "outputs": [],
   "source": []
  }
 ],
 "metadata": {
  "kernelspec": {
   "display_name": "Python 3",
   "language": "python",
   "name": "python3"
  },
  "language_info": {
   "codemirror_mode": {
    "name": "ipython",
    "version": 3
   },
   "file_extension": ".py",
   "mimetype": "text/x-python",
   "name": "python",
   "nbconvert_exporter": "python",
   "pygments_lexer": "ipython3",
   "version": "3.7.3"
  }
 },
 "nbformat": 4,
 "nbformat_minor": 2
}
